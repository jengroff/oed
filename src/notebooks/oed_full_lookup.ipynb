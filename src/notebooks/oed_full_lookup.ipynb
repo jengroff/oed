{
 "cells": [
  {
   "cell_type": "code",
   "execution_count": 82,
   "metadata": {},
   "outputs": [],
   "source": [
    "import requests\n",
    "import json\n",
    "from pprint import pprint as pp\n",
    "\n",
    "\n",
    "def oed_full(word: str) -> str:\n",
    "    app_id = \"f2bb346a\"\n",
    "    app_key = \"3255d6901f3b2760b1d4c510f9444e99\"\n",
    "    language = 'en-us'\n",
    "    fields = 'definitions'\n",
    "    strictMatch = 'false'\n",
    "    word_id = word.lower()\n",
    "    url = f\"https://od-api.oxforddictionaries.com/api/v2/entries/{language}/{word_id}?strictMatch=false\"\n",
    "\n",
    "    response = requests.get(url, headers = {'app_id': app_id, 'app_key': app_key})\n",
    "    json_response = json.loads(response.text)\n",
    "    \n",
    "    etymology = json_response[\"results\"][0][\"lexicalEntries\"][0][\"entries\"][0][\"etymologies\"][0]\n",
    "    definition = json_response[\"results\"][0][\"lexicalEntries\"][0][\"entries\"][0][\"senses\"][0][\"definitions\"][0]\n",
    "    example = json_response[\"results\"][0][\"lexicalEntries\"][0][\"entries\"][0][\"senses\"][0][\"examples\"][0][\"text\"]\n",
    "\n",
    "    print(f\"Definition: \\t{definition}\\n\")\n",
    "    print(f\"Etymology: \\t{etymology}\\n\")\n",
    "    print(f\"Example: \\t'{example}'\\n\")"
   ]
  },
  {
   "cell_type": "code",
   "execution_count": 8,
   "metadata": {},
   "outputs": [],
   "source": [
    "import requests\n",
    "import json\n",
    "\n",
    "app_id = \"f2bb346a\"\n",
    "app_key = \"8b996efca2c6551fabf570d6ffb14471\"\n",
    "\n",
    "\n",
    "def full_lookup(word: str):\n",
    "    word_id = word.lower()\n",
    "    language = \"en-us\"\n",
    "    url = f\"https://od-api.oxforddictionaries.com/api/v2/entries/{language}/{word_id}?strictMatch=false\"\n",
    "    response = requests.get(url, headers={'app_id': app_id, 'app_key': app_key})\n",
    "    # json_response = json.loads(response.text)\n",
    "\n",
    "    print(response.status_code)\n",
    "\n",
    "    # if response.status_code == 200:\n",
    "    #     definition = json_response[\"results\"][0][\"lexicalEntries\"][0][\"entries\"][0][\"senses\"][0][\"definitions\"][0]\n",
    "    # else:\n",
    "    #     definition = \"Sorry, the OED has no entry for that word.\"\n",
    "\n",
    "    # return f'\"{word_id}\":  {definition}'"
   ]
  },
  {
   "cell_type": "code",
   "execution_count": 9,
   "metadata": {},
   "outputs": [
    {
     "name": "stdout",
     "output_type": "stream",
     "text": [
      "403\n"
     ]
    }
   ],
   "source": [
    "full_lookup(\"frank\")"
   ]
  }
 ],
 "metadata": {
  "interpreter": {
   "hash": "aee8b7b246df8f9039afb4144a1f6fd8d2ca17a180786b69acc140d282b71a49"
  },
  "kernelspec": {
   "display_name": "Python 3.9.1 64-bit",
   "name": "python3"
  },
  "language_info": {
   "codemirror_mode": {
    "name": "ipython",
    "version": 3
   },
   "file_extension": ".py",
   "mimetype": "text/x-python",
   "name": "python",
   "nbconvert_exporter": "python",
   "pygments_lexer": "ipython3",
   "version": "3.9.1"
  }
 },
 "nbformat": 4,
 "nbformat_minor": 4
}
